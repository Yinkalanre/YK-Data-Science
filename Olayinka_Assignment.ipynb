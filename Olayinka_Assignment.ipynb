{
 "cells": [
  {
   "cell_type": "code",
   "execution_count": 9,
   "id": "797e8735",
   "metadata": {},
   "outputs": [],
   "source": [
    "#python data type and examples....Olanrewaju Olayinka"
   ]
  },
  {
   "cell_type": "code",
   "execution_count": 15,
   "id": "dfd3d404",
   "metadata": {},
   "outputs": [
    {
     "data": {
      "text/plain": [
       "20"
      ]
     },
     "execution_count": 15,
     "metadata": {},
     "output_type": "execute_result"
    }
   ],
   "source": [
    "#Numbers - Interger or float\n",
    "\n",
    "20"
   ]
  },
  {
   "cell_type": "code",
   "execution_count": 16,
   "id": "8a75d324",
   "metadata": {},
   "outputs": [
    {
     "data": {
      "text/plain": [
       "int"
      ]
     },
     "execution_count": 16,
     "metadata": {},
     "output_type": "execute_result"
    }
   ],
   "source": [
    "type (20)"
   ]
  },
  {
   "cell_type": "code",
   "execution_count": 17,
   "id": "8e7dce83",
   "metadata": {},
   "outputs": [
    {
     "data": {
      "text/plain": [
       "-30"
      ]
     },
     "execution_count": 17,
     "metadata": {},
     "output_type": "execute_result"
    }
   ],
   "source": [
    "-30"
   ]
  },
  {
   "cell_type": "code",
   "execution_count": 18,
   "id": "4f99f339",
   "metadata": {},
   "outputs": [
    {
     "data": {
      "text/plain": [
       "int"
      ]
     },
     "execution_count": 18,
     "metadata": {},
     "output_type": "execute_result"
    }
   ],
   "source": [
    "type(-30)"
   ]
  },
  {
   "cell_type": "code",
   "execution_count": 19,
   "id": "0ba5627e",
   "metadata": {},
   "outputs": [
    {
     "data": {
      "text/plain": [
       "700"
      ]
     },
     "execution_count": 19,
     "metadata": {},
     "output_type": "execute_result"
    }
   ],
   "source": [
    "200 + 500"
   ]
  },
  {
   "cell_type": "code",
   "execution_count": 20,
   "id": "8257e754",
   "metadata": {},
   "outputs": [
    {
     "data": {
      "text/plain": [
       "35.1"
      ]
     },
     "execution_count": 20,
     "metadata": {},
     "output_type": "execute_result"
    }
   ],
   "source": [
    "35.1"
   ]
  },
  {
   "cell_type": "code",
   "execution_count": 21,
   "id": "cb193978",
   "metadata": {},
   "outputs": [
    {
     "data": {
      "text/plain": [
       "float"
      ]
     },
     "execution_count": 21,
     "metadata": {},
     "output_type": "execute_result"
    }
   ],
   "source": [
    "type (35.1)"
   ]
  },
  {
   "cell_type": "code",
   "execution_count": 22,
   "id": "75926fc1",
   "metadata": {},
   "outputs": [
    {
     "data": {
      "text/plain": [
       "735.1"
      ]
     },
     "execution_count": 22,
     "metadata": {},
     "output_type": "execute_result"
    }
   ],
   "source": [
    "35.1 + 700"
   ]
  },
  {
   "cell_type": "code",
   "execution_count": 23,
   "id": "2ca02e73",
   "metadata": {},
   "outputs": [
    {
     "data": {
      "text/plain": [
       "float"
      ]
     },
     "execution_count": 23,
     "metadata": {},
     "output_type": "execute_result"
    }
   ],
   "source": [
    "type(735.1)"
   ]
  },
  {
   "cell_type": "code",
   "execution_count": 26,
   "id": "beafa062",
   "metadata": {},
   "outputs": [
    {
     "data": {
      "text/plain": [
       "4"
      ]
     },
     "execution_count": 26,
     "metadata": {},
     "output_type": "execute_result"
    }
   ],
   "source": [
    "#Basic Arithmetic\n",
    "\n",
    "2*2"
   ]
  },
  {
   "cell_type": "code",
   "execution_count": 27,
   "id": "d96e1756",
   "metadata": {},
   "outputs": [
    {
     "data": {
      "text/plain": [
       "6.666666666666667"
      ]
     },
     "execution_count": 27,
     "metadata": {},
     "output_type": "execute_result"
    }
   ],
   "source": [
    "20/3"
   ]
  },
  {
   "cell_type": "code",
   "execution_count": 28,
   "id": "232ac85d",
   "metadata": {},
   "outputs": [
    {
     "data": {
      "text/plain": [
       "6"
      ]
     },
     "execution_count": 28,
     "metadata": {},
     "output_type": "execute_result"
    }
   ],
   "source": [
    "#floor division //\n",
    "20//3"
   ]
  },
  {
   "cell_type": "code",
   "execution_count": 29,
   "id": "7ae33f36",
   "metadata": {},
   "outputs": [
    {
     "data": {
      "text/plain": [
       "2"
      ]
     },
     "execution_count": 29,
     "metadata": {},
     "output_type": "execute_result"
    }
   ],
   "source": [
    "# modulo %\n",
    "20%3"
   ]
  },
  {
   "cell_type": "code",
   "execution_count": 30,
   "id": "5618acf1",
   "metadata": {},
   "outputs": [
    {
     "data": {
      "text/plain": [
       "64"
      ]
     },
     "execution_count": 30,
     "metadata": {},
     "output_type": "execute_result"
    }
   ],
   "source": [
    "#raise to power\n",
    "\n",
    "4**3"
   ]
  },
  {
   "cell_type": "code",
   "execution_count": 31,
   "id": "47ffba07",
   "metadata": {},
   "outputs": [
    {
     "data": {
      "text/plain": [
       "32.0"
      ]
     },
     "execution_count": 31,
     "metadata": {},
     "output_type": "execute_result"
    }
   ],
   "source": [
    "#square root\n",
    "64*0.5"
   ]
  },
  {
   "cell_type": "code",
   "execution_count": 32,
   "id": "93cbb67f",
   "metadata": {},
   "outputs": [
    {
     "data": {
      "text/plain": [
       "5.5"
      ]
     },
     "execution_count": 32,
     "metadata": {},
     "output_type": "execute_result"
    }
   ],
   "source": [
    "#BODMAS\n",
    "\n",
    "30*2/40+5-1"
   ]
  },
  {
   "cell_type": "code",
   "execution_count": 33,
   "id": "f880e8de",
   "metadata": {},
   "outputs": [
    {
     "data": {
      "text/plain": [
       "1.3636363636363635"
      ]
     },
     "execution_count": 33,
     "metadata": {},
     "output_type": "execute_result"
    }
   ],
   "source": [
    "30*2/(40+5-1)"
   ]
  },
  {
   "cell_type": "code",
   "execution_count": 20,
   "id": "63098b20",
   "metadata": {},
   "outputs": [
    {
     "name": "stdout",
     "output_type": "stream",
     "text": [
      "Now let's do variable assignment:\n",
      "1000\n",
      "200.5\n"
     ]
    },
    {
     "data": {
      "text/plain": [
       "1200.5"
      ]
     },
     "execution_count": 20,
     "metadata": {},
     "output_type": "execute_result"
    }
   ],
   "source": [
    "#variable assignment\n",
    "\n",
    "print(\"Now let's do variable assignment:\")\n",
    "price=1000\n",
    "tax = 200.50\n",
    "print(price)\n",
    "print(tax)\n",
    "Total = price + tax\n",
    "Total\n"
   ]
  },
  {
   "cell_type": "code",
   "execution_count": 36,
   "id": "af7762fc",
   "metadata": {},
   "outputs": [
    {
     "name": "stdout",
     "output_type": "stream",
     "text": [
      "What is your name?: Python\n",
      "Which year were you born?: 1980\n",
      "Now you are: \n",
      "39\n"
     ]
    }
   ],
   "source": [
    "Name = input (\"What is your name?: \")\n",
    "Birth_Year = input(\"Which year were you born?: \")\n",
    "Age = 2019 - int(Birth_Year)\n",
    "print (\"Now you are: \")\n",
    "print(Age)"
   ]
  },
  {
   "cell_type": "code",
   "execution_count": 8,
   "id": "7e7e0002",
   "metadata": {},
   "outputs": [
    {
     "name": "stdout",
     "output_type": "stream",
     "text": [
      "James Obiora Result: \n",
      "Waht is James' Score in Test 1? 8\n",
      "Waht is James' Score in Test 2? 7\n",
      "Waht is James' Attendance Score? 9\n",
      "Waht is James' Score in the exam? 50\n",
      "James total score\n"
     ]
    },
    {
     "data": {
      "text/plain": [
       "74.0"
      ]
     },
     "execution_count": 8,
     "metadata": {},
     "output_type": "execute_result"
    }
   ],
   "source": [
    "print(\"James Obiora Result: \")\n",
    "Test_1 = float(input(\"Waht is James' Score in Test 1? \"))\n",
    "Test_2 = float(input(\"Waht is James' Score in Test 2? \"))\n",
    "Attendance = float(input(\"Waht is James' Attendance Score? \"))\n",
    "Exam_Score = float(input(\"Waht is James' Score in the exam? \"))\n",
    "James_Total = float(Test_1 + Test_2 + Attendance + Exam_Score)\n",
    "print(\"James total score\")\n",
    "James_Total"
   ]
  },
  {
   "cell_type": "code",
   "execution_count": 11,
   "id": "01166ce7",
   "metadata": {},
   "outputs": [
    {
     "name": "stdout",
     "output_type": "stream",
     "text": [
      "James Obiora Result: \n",
      "James Score's in Test 1? 8\n",
      "James Score's in Test 2? 7\n",
      "James Attendance Score? 9\n",
      "James Score's in the exam? 50\n",
      "James Obiora Total Score: \n",
      "74.0\n",
      "James Average Score: \n"
     ]
    },
    {
     "data": {
      "text/plain": [
       "18.5"
      ]
     },
     "execution_count": 11,
     "metadata": {},
     "output_type": "execute_result"
    }
   ],
   "source": [
    "print(\"James Obiora Result: \")\n",
    "Test_1 = float(input(\"James Score's in Test 1? \"))\n",
    "Test_2 = float(input(\"James Score's in Test 2? \"))\n",
    "Attendance = float(input(\"James Attendance Score? \"))\n",
    "Exam_Score = float(input(\"James Score's in the exam? \"))\n",
    "James_Total = float(Test_1 + Test_2 + Attendance + Exam_Score)\n",
    "print(\"James Obiora Total Score: \")\n",
    "print(James_Total)\n",
    "print(\"James Average Score: \")\n",
    "James_Total/4"
   ]
  },
  {
   "cell_type": "code",
   "execution_count": 19,
   "id": "bb777590",
   "metadata": {},
   "outputs": [
    {
     "data": {
      "text/plain": [
       "int"
      ]
     },
     "execution_count": 19,
     "metadata": {},
     "output_type": "execute_result"
    }
   ],
   "source": [
    "type(price)"
   ]
  },
  {
   "cell_type": "code",
   "execution_count": 21,
   "id": "ef1c8c78",
   "metadata": {},
   "outputs": [
    {
     "data": {
      "text/plain": [
       "float"
      ]
     },
     "execution_count": 21,
     "metadata": {},
     "output_type": "execute_result"
    }
   ],
   "source": [
    "type(Total)"
   ]
  },
  {
   "cell_type": "code",
   "execution_count": 22,
   "id": "14c28b9e",
   "metadata": {},
   "outputs": [
    {
     "data": {
      "text/plain": [
       "float"
      ]
     },
     "execution_count": 22,
     "metadata": {},
     "output_type": "execute_result"
    }
   ],
   "source": [
    "type(tax)"
   ]
  },
  {
   "cell_type": "code",
   "execution_count": 27,
   "id": "1b44347b",
   "metadata": {},
   "outputs": [
    {
     "name": "stdout",
     "output_type": "stream",
     "text": [
      "My name is: \n",
      "Olanrewaju Olayinka\n"
     ]
    }
   ],
   "source": [
    "print(\"My name is: \\nOlanrewaju Olayinka\")"
   ]
  },
  {
   "cell_type": "code",
   "execution_count": 28,
   "id": "cc37718a",
   "metadata": {},
   "outputs": [
    {
     "data": {
      "text/plain": [
       "10"
      ]
     },
     "execution_count": 28,
     "metadata": {},
     "output_type": "execute_result"
    }
   ],
   "source": [
    "len(\"Olanrewaju\")"
   ]
  },
  {
   "cell_type": "code",
   "execution_count": 29,
   "id": "a7b1da48",
   "metadata": {},
   "outputs": [
    {
     "data": {
      "text/plain": [
       "8"
      ]
     },
     "execution_count": 29,
     "metadata": {},
     "output_type": "execute_result"
    }
   ],
   "source": [
    "len(\"Olayinka\")"
   ]
  },
  {
   "cell_type": "code",
   "execution_count": 30,
   "id": "79a58779",
   "metadata": {},
   "outputs": [
    {
     "data": {
      "text/plain": [
       "19"
      ]
     },
     "execution_count": 30,
     "metadata": {},
     "output_type": "execute_result"
    }
   ],
   "source": [
    "len(\"Olanrewaju Olayinka\")"
   ]
  },
  {
   "cell_type": "code",
   "execution_count": 31,
   "id": "c69036a0",
   "metadata": {},
   "outputs": [
    {
     "name": "stdout",
     "output_type": "stream",
     "text": [
      "what is your first name? Olayinka\n",
      "what is your last name? Olanrewaju\n",
      "what is your middle name? Sola\n"
     ]
    },
    {
     "data": {
      "text/plain": [
       "'Olayinka Sola Olanrewaju'"
      ]
     },
     "execution_count": 31,
     "metadata": {},
     "output_type": "execute_result"
    }
   ],
   "source": [
    "#slicing and indexing\n",
    "First_Name = input(\"what is your first name? \")\n",
    "Last_Name = input(\"what is your last name? \")\n",
    "Middle_Name = input(\"what is your middle name? \")\n",
    "Full_Name = First_Name + \" \" + Middle_Name + \" \" + Last_Name\n",
    "Full_Name"
   ]
  },
  {
   "cell_type": "code",
   "execution_count": 32,
   "id": "a6da1999",
   "metadata": {},
   "outputs": [
    {
     "data": {
      "text/plain": [
       "24"
      ]
     },
     "execution_count": 32,
     "metadata": {},
     "output_type": "execute_result"
    }
   ],
   "source": [
    "len(Full_Name)"
   ]
  },
  {
   "cell_type": "code",
   "execution_count": 33,
   "id": "8de5cc63",
   "metadata": {},
   "outputs": [
    {
     "data": {
      "text/plain": [
       "'Olayinka'"
      ]
     },
     "execution_count": 33,
     "metadata": {},
     "output_type": "execute_result"
    }
   ],
   "source": [
    "Full_Name[0:8]"
   ]
  },
  {
   "cell_type": "code",
   "execution_count": 34,
   "id": "a62eb134",
   "metadata": {},
   "outputs": [
    {
     "data": {
      "text/plain": [
       "'Sola'"
      ]
     },
     "execution_count": 34,
     "metadata": {},
     "output_type": "execute_result"
    }
   ],
   "source": [
    "Full_Name[9:13]"
   ]
  },
  {
   "cell_type": "code",
   "execution_count": 35,
   "id": "e914dd36",
   "metadata": {},
   "outputs": [
    {
     "data": {
      "text/plain": [
       "'Olanrewaju'"
      ]
     },
     "execution_count": 35,
     "metadata": {},
     "output_type": "execute_result"
    }
   ],
   "source": [
    "Full_Name[14:]"
   ]
  },
  {
   "cell_type": "code",
   "execution_count": 36,
   "id": "2c12f437",
   "metadata": {},
   "outputs": [
    {
     "data": {
      "text/plain": [
       "'Oi aaw'"
      ]
     },
     "execution_count": 36,
     "metadata": {},
     "output_type": "execute_result"
    }
   ],
   "source": [
    "Full_Name[0::4]"
   ]
  },
  {
   "cell_type": "code",
   "execution_count": 37,
   "id": "fc68d416",
   "metadata": {},
   "outputs": [
    {
     "data": {
      "text/plain": [
       "'Oaik oaOarwj'"
      ]
     },
     "execution_count": 37,
     "metadata": {},
     "output_type": "execute_result"
    }
   ],
   "source": [
    "Full_Name[0::2]"
   ]
  },
  {
   "cell_type": "code",
   "execution_count": 38,
   "id": "990aeefd",
   "metadata": {},
   "outputs": [
    {
     "data": {
      "text/plain": [
       "'Onwu'"
      ]
     },
     "execution_count": 38,
     "metadata": {},
     "output_type": "execute_result"
    }
   ],
   "source": [
    "Last_Name[0::3]"
   ]
  },
  {
   "cell_type": "code",
   "execution_count": 43,
   "id": "f352ebe0",
   "metadata": {},
   "outputs": [
    {
     "data": {
      "text/plain": [
       "'12345678910'"
      ]
     },
     "execution_count": 43,
     "metadata": {},
     "output_type": "execute_result"
    }
   ],
   "source": [
    "number = \"12345678910\"\n",
    "number"
   ]
  },
  {
   "cell_type": "code",
   "execution_count": 42,
   "id": "cc3ca804",
   "metadata": {},
   "outputs": [
    {
     "data": {
      "text/plain": [
       "'35790'"
      ]
     },
     "execution_count": 42,
     "metadata": {},
     "output_type": "execute_result"
    }
   ],
   "source": [
    "number[2::2]"
   ]
  },
  {
   "cell_type": "code",
   "execution_count": 44,
   "id": "8a07d954",
   "metadata": {},
   "outputs": [
    {
     "data": {
      "text/plain": [
       "'j'"
      ]
     },
     "execution_count": 44,
     "metadata": {},
     "output_type": "execute_result"
    }
   ],
   "source": [
    "Full_Name[-2]"
   ]
  },
  {
   "cell_type": "code",
   "execution_count": 45,
   "id": "5861aa95",
   "metadata": {},
   "outputs": [
    {
     "data": {
      "text/plain": [
       "'oLAYINKA sOLA oLANREWAJU'"
      ]
     },
     "execution_count": 45,
     "metadata": {},
     "output_type": "execute_result"
    }
   ],
   "source": [
    "Full_Name.swapcase()"
   ]
  },
  {
   "cell_type": "code",
   "execution_count": 46,
   "id": "c5140e19",
   "metadata": {},
   "outputs": [
    {
     "data": {
      "text/plain": [
       "['Olayinka', 'Sola', 'Olanrewaju']"
      ]
     },
     "execution_count": 46,
     "metadata": {},
     "output_type": "execute_result"
    }
   ],
   "source": [
    "Full_Name.split()"
   ]
  },
  {
   "cell_type": "code",
   "execution_count": 47,
   "id": "d311791f",
   "metadata": {},
   "outputs": [
    {
     "data": {
      "text/plain": [
       "b'Olayinka Sola Olanrewaju'"
      ]
     },
     "execution_count": 47,
     "metadata": {},
     "output_type": "execute_result"
    }
   ],
   "source": [
    "Full_Name.encode()"
   ]
  },
  {
   "cell_type": "code",
   "execution_count": 48,
   "id": "5286cc17",
   "metadata": {},
   "outputs": [
    {
     "data": {
      "text/plain": [
       "'Olayinka Sola Olanrewaju'"
      ]
     },
     "execution_count": 48,
     "metadata": {},
     "output_type": "execute_result"
    }
   ],
   "source": [
    "Full_Name"
   ]
  },
  {
   "cell_type": "code",
   "execution_count": 50,
   "id": "d5c9e1ef",
   "metadata": {},
   "outputs": [
    {
     "name": "stdout",
     "output_type": "stream",
     "text": [
      "what is your first name? Olayinka\n",
      "what is your middle name? Sola\n",
      "what is your last name? Olanrewaju\n",
      "my first name is Olayinka and last name is Olanrewaju. So my full name is Olayinka Sola Olanrewaju\n"
     ]
    }
   ],
   "source": [
    "# print format\n",
    "First_Name = input(\"what is your first name? \")\n",
    "Middle_Name = input(\"what is your middle name? \")\n",
    "Last_Name = input(\"what is your last name? \")\n",
    "Full_Name = First_Name + \" \" + Middle_Name + \" \" + Last_Name\n",
    "Full_Name\n",
    "print(\"my first name is {} and last name is {}. So my full name is {}\".format(First_Name, Last_Name, Full_Name))\n"
   ]
  },
  {
   "cell_type": "code",
   "execution_count": 56,
   "id": "3f0ce430",
   "metadata": {},
   "outputs": [
    {
     "name": "stdout",
     "output_type": "stream",
     "text": [
      "what is your first name? Olayinka\n",
      "what is your middle name? Sola\n",
      "what is your last name? Olanrewaju\n",
      "My firs name is Olayinka and my last name is Olanrewaju\n"
     ]
    }
   ],
   "source": [
    "# placeholder format\n",
    "First_Name = input(\"what is your first name? \")\n",
    "Middle_Name = input(\"what is your middle name? \")\n",
    "Last_Name = input(\"what is your last name? \")\n",
    "\n",
    "Full_Name = First_Name + \" \" + Last_Name\n",
    "Full_Name\n",
    "\n",
    "print(\"My firs name is %s and my last name is %s\" %(First_Name,Last_Name))"
   ]
  },
  {
   "cell_type": "code",
   "execution_count": 64,
   "id": "f39b07e3",
   "metadata": {},
   "outputs": [
    {
     "name": "stdout",
     "output_type": "stream",
     "text": [
      "what is your first name? Olayink\n",
      "what is your middle name? Sola\n",
      "what is your last name? Olanrewaju\n",
      "My firs name is Olayink middle name is Sola and my last name is Olanrewaju. So my full name is Olayink SolaOlanrewaju\n"
     ]
    }
   ],
   "source": [
    "# placeholder format with full name\n",
    "First_Name = input(\"what is your first name? \")\n",
    "Middle_Name = input(\"what is your middle name? \")\n",
    "Last_Name = input(\"what is your last name? \")\n",
    "\n",
    "Full_Name = First_Name + \" \" + Middle_Name + \"\" + Last_Name\n",
    "Full_Name\n",
    "\n",
    "print(\"My firs name is %s middle name is %s and my last name is %s. So my full name is %s\" %(First_Name, Middle_Name,Last_Name,Full_Name))\n"
   ]
  },
  {
   "cell_type": "code",
   "execution_count": 65,
   "id": "b5f44ca9",
   "metadata": {},
   "outputs": [
    {
     "name": "stdout",
     "output_type": "stream",
     "text": [
      "what is your first name? Olayinka\n",
      "what is your middle name? Sola\n",
      "what is your last name? Olanrewaju\n",
      "my first name is Olayinka, Middle name is Sola and last name is Olanrewaju. So my full name is Olayinka Sola Olanrewaju\n",
      "Thank You!\n"
     ]
    }
   ],
   "source": [
    "# f format\n",
    "First_Name = input(\"what is your first name? \")\n",
    "Middle_Name = input(\"what is your middle name? \")\n",
    "Last_Name = input(\"what is your last name? \")\n",
    "Full_Name = First_Name + \" \" + Middle_Name + \" \" + Last_Name\n",
    "Full_Name\n",
    "print(f\"my first name is {First_Name}, Middle name is {Middle_Name} and last name is {Last_Name}. So my full name is {Full_Name}\")\n",
    "print(\"Thank You!\")"
   ]
  },
  {
   "cell_type": "code",
   "execution_count": 67,
   "id": "7c0cb0dc",
   "metadata": {},
   "outputs": [
    {
     "data": {
      "text/plain": [
       "['Shell', 'Mobil', 'MTN', 'EUNISELL', 'NNPC', 'DADEM', 'TOTAL', 'FLOURISH']"
      ]
     },
     "execution_count": 67,
     "metadata": {},
     "output_type": "execute_result"
    }
   ],
   "source": [
    "#list\n",
    "client = [\"Shell\", \"Mobil\", \"MTN\", \"EUNISELL\", \"NNPC\", \"DADEM\", \"TOTAL\", \"FLOURISH\"]\n",
    "client"
   ]
  },
  {
   "cell_type": "code",
   "execution_count": 68,
   "id": "3f31e155",
   "metadata": {},
   "outputs": [
    {
     "data": {
      "text/plain": [
       "['Shell', 'Mobil', 'MTN', 'EUNISELL', 'NNPC', 'DADEM', 'TOTAL', 'FLOURISH']"
      ]
     },
     "execution_count": 68,
     "metadata": {},
     "output_type": "execute_result"
    }
   ],
   "source": [
    "client [0::]"
   ]
  },
  {
   "cell_type": "code",
   "execution_count": 69,
   "id": "1f7a51af",
   "metadata": {},
   "outputs": [
    {
     "data": {
      "text/plain": [
       "8"
      ]
     },
     "execution_count": 69,
     "metadata": {},
     "output_type": "execute_result"
    }
   ],
   "source": [
    "len(client)"
   ]
  },
  {
   "cell_type": "code",
   "execution_count": 70,
   "id": "1f858ec4",
   "metadata": {},
   "outputs": [
    {
     "data": {
      "text/plain": [
       "['Shell', 'Mobil', 'MTN', 'EUNISELL', 'NNPC', 'DADEM', 'TOTAL']"
      ]
     },
     "execution_count": 70,
     "metadata": {},
     "output_type": "execute_result"
    }
   ],
   "source": [
    "client [0:-1]"
   ]
  },
  {
   "cell_type": "code",
   "execution_count": 74,
   "id": "255a6eb3",
   "metadata": {},
   "outputs": [
    {
     "data": {
      "text/plain": [
       "['Shell', 'EUNISELL', 'TOTAL']"
      ]
     },
     "execution_count": 74,
     "metadata": {},
     "output_type": "execute_result"
    }
   ],
   "source": [
    "client [0::3]"
   ]
  },
  {
   "cell_type": "code",
   "execution_count": 76,
   "id": "6f5423c8",
   "metadata": {},
   "outputs": [
    {
     "data": {
      "text/plain": [
       "['Shell',\n",
       " 'Mobil',\n",
       " 'MTN',\n",
       " 'EUNISELL',\n",
       " 'NNPC',\n",
       " 'DADEM',\n",
       " 'TOTAL',\n",
       " 'FLOURISH',\n",
       " 'OYA GROUP',\n",
       " 'OYA GROUP']"
      ]
     },
     "execution_count": 76,
     "metadata": {},
     "output_type": "execute_result"
    }
   ],
   "source": [
    "client.append('OYA GROUP')\n",
    "client"
   ]
  },
  {
   "cell_type": "code",
   "execution_count": null,
   "id": "ca2a80bc",
   "metadata": {},
   "outputs": [],
   "source": [
    "client.reverse()"
   ]
  },
  {
   "cell_type": "code",
   "execution_count": 97,
   "id": "80b7d749",
   "metadata": {},
   "outputs": [
    {
     "data": {
      "text/plain": [
       "['OYA GROUP',\n",
       " 'FLOURISH',\n",
       " 'TOTAL',\n",
       " 'DADEM',\n",
       " 'NNPC',\n",
       " 'EUNISELL',\n",
       " 'MTN',\n",
       " 'Mobil',\n",
       " 'Shell']"
      ]
     },
     "execution_count": 97,
     "metadata": {},
     "output_type": "execute_result"
    }
   ],
   "source": [
    "client"
   ]
  },
  {
   "cell_type": "code",
   "execution_count": 98,
   "id": "ee6b38ed",
   "metadata": {},
   "outputs": [
    {
     "data": {
      "text/plain": [
       "'Shell'"
      ]
     },
     "execution_count": 98,
     "metadata": {},
     "output_type": "execute_result"
    }
   ],
   "source": [
    "client.pop()"
   ]
  },
  {
   "cell_type": "code",
   "execution_count": 90,
   "id": "b4df684f",
   "metadata": {},
   "outputs": [
    {
     "name": "stdout",
     "output_type": "stream",
     "text": [
      "4300000\n"
     ]
    }
   ],
   "source": [
    "OYA_GROUP = 4000000\n",
    "MTN = 300000\n",
    "REVENUE = OYA_GROUP + MTN\n",
    "print(REVENUE)\n",
    "\n"
   ]
  },
  {
   "cell_type": "code",
   "execution_count": 92,
   "id": "f669942d",
   "metadata": {},
   "outputs": [
    {
     "data": {
      "text/plain": [
       "[1, 2, 3, 4, 5, 6, 7, 8, 9, 10]"
      ]
     },
     "execution_count": 92,
     "metadata": {},
     "output_type": "execute_result"
    }
   ],
   "source": [
    "PC=[1,2,3,4,5,6,7,8,9,10]\n",
    "PC"
   ]
  },
  {
   "cell_type": "code",
   "execution_count": 95,
   "id": "bf1bd6fd",
   "metadata": {},
   "outputs": [
    {
     "data": {
      "text/plain": [
       "[10, 9, 8, 7, 6, 5, 4, 3, 2, 1]"
      ]
     },
     "execution_count": 95,
     "metadata": {},
     "output_type": "execute_result"
    }
   ],
   "source": [
    "PC.reverse()\n",
    "PC"
   ]
  },
  {
   "cell_type": "code",
   "execution_count": 96,
   "id": "268b6fac",
   "metadata": {},
   "outputs": [
    {
     "data": {
      "text/plain": [
       "[10, 8, 6, 4, 2]"
      ]
     },
     "execution_count": 96,
     "metadata": {},
     "output_type": "execute_result"
    }
   ],
   "source": [
    "PC[0::2]"
   ]
  },
  {
   "cell_type": "code",
   "execution_count": 106,
   "id": "17c255d0",
   "metadata": {},
   "outputs": [
    {
     "data": {
      "text/plain": [
       "{'key1': 'value1', 'key2': 'value2', 'keyn': 'valuen'}"
      ]
     },
     "execution_count": 106,
     "metadata": {},
     "output_type": "execute_result"
    }
   ],
   "source": [
    "#dictionaries\n",
    "dict = {\"key1\":\"value1\", \"key2\":\"value2\",\"keyn\":\"valuen\"}\n",
    "dict"
   ]
  },
  {
   "cell_type": "code",
   "execution_count": 108,
   "id": "a5e5b4d5",
   "metadata": {},
   "outputs": [
    {
     "data": {
      "text/plain": [
       "{'Osun': 'Kola',\n",
       " 'Oyo': 'Dayo',\n",
       " 'Enugu': 'James',\n",
       " 'Victor': 'Imo',\n",
       " 'Abia': 'David'}"
      ]
     },
     "execution_count": 108,
     "metadata": {},
     "output_type": "execute_result"
    }
   ],
   "source": [
    "State_of_Origin={\"Osun\":\"Olayinka\", \"Oyo\":\"Dayo\", \"Enugu\":\"James\", \"Victor\":\"Imo\", \"Osun\":\"Kola\", \"Abia\":\"David\"}\n",
    "State_of_Origin"
   ]
  },
  {
   "cell_type": "code",
   "execution_count": 109,
   "id": "4f7d82f5",
   "metadata": {},
   "outputs": [
    {
     "data": {
      "text/plain": [
       "{'Osun': 'Kola',\n",
       " 'Oyo': {'Akin', 'Funke', 'Tayo', 'Yemi'},\n",
       " 'Enugu': 'James',\n",
       " 'Victor': 'Imo',\n",
       " 'Abia': 'David'}"
      ]
     },
     "execution_count": 109,
     "metadata": {},
     "output_type": "execute_result"
    }
   ],
   "source": [
    "State_of_Origin[\"Oyo\"]={\"Yemi\",\"Akin\",\"Tayo\",\"Funke\"}\n",
    "State_of_Origin"
   ]
  },
  {
   "cell_type": "code",
   "execution_count": 111,
   "id": "372c2766",
   "metadata": {},
   "outputs": [
    {
     "data": {
      "text/plain": [
       "{'Akin', 'Funke', 'Tayo', 'Yemi'}"
      ]
     },
     "execution_count": 111,
     "metadata": {},
     "output_type": "execute_result"
    }
   ],
   "source": [
    "State_of_Origin[\"Oyo\"]"
   ]
  },
  {
   "cell_type": "code",
   "execution_count": 112,
   "id": "a4bc7015",
   "metadata": {},
   "outputs": [
    {
     "data": {
      "text/plain": [
       "'Kola'"
      ]
     },
     "execution_count": 112,
     "metadata": {},
     "output_type": "execute_result"
    }
   ],
   "source": [
    "State_of_Origin[\"Osun\"]"
   ]
  },
  {
   "cell_type": "code",
   "execution_count": 114,
   "id": "c946a559",
   "metadata": {},
   "outputs": [
    {
     "data": {
      "text/plain": [
       "'James'"
      ]
     },
     "execution_count": 114,
     "metadata": {},
     "output_type": "execute_result"
    }
   ],
   "source": [
    "State_of_Origin[\"Enugu\"]"
   ]
  },
  {
   "cell_type": "code",
   "execution_count": 118,
   "id": "262938e9",
   "metadata": {},
   "outputs": [
    {
     "data": {
      "text/plain": [
       "dict_values(['Kola', {'Akin', 'Funke', 'Tayo', 'Yemi'}, 'James', 'Imo', 'David'])"
      ]
     },
     "execution_count": 118,
     "metadata": {},
     "output_type": "execute_result"
    }
   ],
   "source": [
    "State_of_Origin.values()"
   ]
  },
  {
   "cell_type": "code",
   "execution_count": 122,
   "id": "531c951d",
   "metadata": {},
   "outputs": [
    {
     "data": {
      "text/plain": [
       "{'Name': 'James Obiora', 'Age': 20, 'Class': 'SS3', 'Address': 'Ogba'}"
      ]
     },
     "execution_count": 122,
     "metadata": {},
     "output_type": "execute_result"
    }
   ],
   "source": [
    "Std_data={\"Name\" : \"James Obiora\", \"Age\": 20, \"Class\":\"SS3\", \"Address\":\"Ogba\"}\n",
    "Std_data"
   ]
  },
  {
   "cell_type": "code",
   "execution_count": 124,
   "id": "594f9a61",
   "metadata": {},
   "outputs": [
    {
     "data": {
      "text/plain": [
       "{'Name': 'James Obiora',\n",
       " 'Age': 20,\n",
       " 'Class': 'SS3',\n",
       " 'Address': 'Ogba',\n",
       " 'Registered Subjects': {'Biology',\n",
       "  'Chemistry',\n",
       "  'English',\n",
       "  'Maths',\n",
       "  'Physics'}}"
      ]
     },
     "execution_count": 124,
     "metadata": {},
     "output_type": "execute_result"
    }
   ],
   "source": [
    "Std_data[\"Registered Subjects\"]={\"Maths\",\"English\",\"Biology\",\"Physics\",\"Chemistry\"}\n",
    "Std_data"
   ]
  },
  {
   "cell_type": "code",
   "execution_count": 130,
   "id": "26b875eb",
   "metadata": {},
   "outputs": [
    {
     "data": {
      "text/plain": [
       "dict_values(['James Obiora', 20, 'SS3', 'Ogba', {'Biology', 'Physics', 'English', 'Maths', 'Chemistry'}])"
      ]
     },
     "execution_count": 130,
     "metadata": {},
     "output_type": "execute_result"
    }
   ],
   "source": [
    "Std_data.values()"
   ]
  },
  {
   "cell_type": "code",
   "execution_count": 131,
   "id": "01c17f10",
   "metadata": {},
   "outputs": [
    {
     "data": {
      "text/plain": [
       "dict_keys(['Name', 'Age', 'Class', 'Address', 'Registered Subjects'])"
      ]
     },
     "execution_count": 131,
     "metadata": {},
     "output_type": "execute_result"
    }
   ],
   "source": [
    "Std_data.keys()"
   ]
  },
  {
   "cell_type": "code",
   "execution_count": 132,
   "id": "4fbdaabb",
   "metadata": {},
   "outputs": [
    {
     "data": {
      "text/plain": [
       "dict_items([('Name', 'James Obiora'), ('Age', 20), ('Class', 'SS3'), ('Address', 'Ogba'), ('Registered Subjects', {'Biology', 'Physics', 'English', 'Maths', 'Chemistry'})])"
      ]
     },
     "execution_count": 132,
     "metadata": {},
     "output_type": "execute_result"
    }
   ],
   "source": [
    "Std_data.items()"
   ]
  },
  {
   "cell_type": "code",
   "execution_count": 138,
   "id": "dfb680bf",
   "metadata": {},
   "outputs": [
    {
     "data": {
      "text/plain": [
       "{'Biology', 'Chemistry', 'English', 'Maths', 'Physics'}"
      ]
     },
     "execution_count": 138,
     "metadata": {},
     "output_type": "execute_result"
    }
   ],
   "source": [
    "Std_data[\"Registered Subjects\"]"
   ]
  },
  {
   "cell_type": "code",
   "execution_count": 139,
   "id": "0c36b0bd",
   "metadata": {},
   "outputs": [
    {
     "data": {
      "text/plain": [
       "(86, 87, 88, 89, 90, 'Mon', 'Tue', 'Wed')"
      ]
     },
     "execution_count": 139,
     "metadata": {},
     "output_type": "execute_result"
    }
   ],
   "source": [
    "#Tuple seqience of ordered item, number or strings, which cannot be modified. E.g days of the week, months of the year, DOB,etc\n",
    "\n",
    "tub = (86,87,88,89,90,\"Mon\",\"Tue\",\"Wed\")\n",
    "tub"
   ]
  },
  {
   "cell_type": "code",
   "execution_count": 145,
   "id": "d6861048",
   "metadata": {},
   "outputs": [
    {
     "data": {
      "text/plain": [
       "[86, 87, 88, 89, 90, 'Mon', 'Tue', 'Wed']"
      ]
     },
     "execution_count": 145,
     "metadata": {},
     "output_type": "execute_result"
    }
   ],
   "source": [
    "#unlike list where you can substitute value as shown below, you can't do that with tub\n",
    "age_day = [86,87,88,89,90, \"Mon\", \"Tue\", \"Wed\"]\n",
    "age_day"
   ]
  },
  {
   "cell_type": "code",
   "execution_count": 151,
   "id": "6c7d919b",
   "metadata": {},
   "outputs": [
    {
     "data": {
      "text/plain": [
       "[85, 87, 88, 89, 90, 'Mon', 'Tue', 'Thur']"
      ]
     },
     "execution_count": 151,
     "metadata": {},
     "output_type": "execute_result"
    }
   ],
   "source": [
    "age_day[-1] = \"Thur\"\n",
    "age_day"
   ]
  },
  {
   "cell_type": "code",
   "execution_count": 152,
   "id": "26f4b3a3",
   "metadata": {},
   "outputs": [
    {
     "ename": "TypeError",
     "evalue": "'tuple' object does not support item assignment",
     "output_type": "error",
     "traceback": [
      "\u001b[1;31m---------------------------------------------------------------------------\u001b[0m",
      "\u001b[1;31mTypeError\u001b[0m                                 Traceback (most recent call last)",
      "Input \u001b[1;32mIn [152]\u001b[0m, in \u001b[0;36m<cell line: 1>\u001b[1;34m()\u001b[0m\n\u001b[1;32m----> 1\u001b[0m tub[\u001b[38;5;241m0\u001b[39m] \u001b[38;5;241m=\u001b[39m \u001b[38;5;241m83\u001b[39m\n",
      "\u001b[1;31mTypeError\u001b[0m: 'tuple' object does not support item assignment"
     ]
    }
   ],
   "source": [
    "tub[0] = 83"
   ]
  },
  {
   "cell_type": "code",
   "execution_count": 156,
   "id": "a48e8602",
   "metadata": {},
   "outputs": [
    {
     "data": {
      "text/plain": [
       "8"
      ]
     },
     "execution_count": 156,
     "metadata": {},
     "output_type": "execute_result"
    }
   ],
   "source": [
    "len(tub)"
   ]
  },
  {
   "cell_type": "code",
   "execution_count": 1,
   "id": "4ae231fe",
   "metadata": {},
   "outputs": [
    {
     "data": {
      "text/plain": [
       "True"
      ]
     },
     "execution_count": 1,
     "metadata": {},
     "output_type": "execute_result"
    }
   ],
   "source": [
    "#Booleans True or False value\n",
    "1==1\n"
   ]
  },
  {
   "cell_type": "code",
   "execution_count": 2,
   "id": "bb4b3e02",
   "metadata": {},
   "outputs": [
    {
     "data": {
      "text/plain": [
       "False"
      ]
     },
     "execution_count": 2,
     "metadata": {},
     "output_type": "execute_result"
    }
   ],
   "source": [
    "1==2"
   ]
  },
  {
   "cell_type": "code",
   "execution_count": 3,
   "id": "27a81a48",
   "metadata": {},
   "outputs": [
    {
     "data": {
      "text/plain": [
       "True"
      ]
     },
     "execution_count": 3,
     "metadata": {},
     "output_type": "execute_result"
    }
   ],
   "source": [
    "2>=1"
   ]
  },
  {
   "cell_type": "code",
   "execution_count": 4,
   "id": "7c6c0511",
   "metadata": {},
   "outputs": [
    {
     "data": {
      "text/plain": [
       "False"
      ]
     },
     "execution_count": 4,
     "metadata": {},
     "output_type": "execute_result"
    }
   ],
   "source": [
    "4<3"
   ]
  },
  {
   "cell_type": "code",
   "execution_count": 5,
   "id": "17f8a4c1",
   "metadata": {},
   "outputs": [
    {
     "data": {
      "text/plain": [
       "bool"
      ]
     },
     "execution_count": 5,
     "metadata": {},
     "output_type": "execute_result"
    }
   ],
   "source": [
    "type(1==2)"
   ]
  },
  {
   "cell_type": "code",
   "execution_count": 8,
   "id": "c7db5159",
   "metadata": {},
   "outputs": [
    {
     "data": {
      "text/plain": [
       "False"
      ]
     },
     "execution_count": 8,
     "metadata": {},
     "output_type": "execute_result"
    }
   ],
   "source": [
    "\"Olayinka\" == \"olayinka\""
   ]
  },
  {
   "cell_type": "code",
   "execution_count": null,
   "id": "ab66b084",
   "metadata": {},
   "outputs": [],
   "source": []
  }
 ],
 "metadata": {
  "kernelspec": {
   "display_name": "Python 3 (ipykernel)",
   "language": "python",
   "name": "python3"
  },
  "language_info": {
   "codemirror_mode": {
    "name": "ipython",
    "version": 3
   },
   "file_extension": ".py",
   "mimetype": "text/x-python",
   "name": "python",
   "nbconvert_exporter": "python",
   "pygments_lexer": "ipython3",
   "version": "3.9.12"
  }
 },
 "nbformat": 4,
 "nbformat_minor": 5
}
